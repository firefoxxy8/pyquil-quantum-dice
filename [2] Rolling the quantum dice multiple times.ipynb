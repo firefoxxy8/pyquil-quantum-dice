{
 "cells": [
  {
   "cell_type": "markdown",
   "metadata": {},
   "source": [
    "# Rolling the quantum dice multiple times\n",
    "\n",
    "This example is based on Dave Yen's blog post: [\"How to write a quantum program in 10 lines of code (for beginners)\"](https://medium.com/rigetti/how-to-write-a-quantum-program-in-10-lines-of-code-for-beginners-540224ac6b45).\n",
    "\n",
    "In the previous notebook, we only rolled the dice _once_. Here, we will run the quantum program multiple times using the `trials` argument as to roll the dice multiple times!"
   ]
  },
  {
   "cell_type": "markdown",
   "metadata": {},
   "source": [
    "Import the dependencies."
   ]
  },
  {
   "cell_type": "code",
   "execution_count": null,
   "metadata": {},
   "outputs": [],
   "source": [
    "%pylab inline\n",
    "import pylab as pl\n",
    "from functools import reduce\n",
    "\n",
    "from pyquil.api import QPUConnection, QVMConnection, get_devices\n",
    "from pyquil.quil import Program\n",
    "from pyquil.gates import H, MEASURE\n",
    "\n",
    "qvm = QVMConnection()"
   ]
  },
  {
   "cell_type": "markdown",
   "metadata": {},
   "source": [
    "Create functions: one to convert binary values to decimal values, and one to roll a dice _num_ times."
   ]
  },
  {
   "cell_type": "code",
   "execution_count": null,
   "metadata": {},
   "outputs": [],
   "source": [
    "def bin_to_dec(values: list):\n",
    "    \"\"\"Convert binary to decimal value\"\"\"\n",
    "    return reduce(lambda x, y: 2*x + y, values, 0) + 1"
   ]
  },
  {
   "cell_type": "code",
   "execution_count": null,
   "metadata": {},
   "outputs": [],
   "source": [
    "def roll_d8(num: int = 10):\n",
    "    \"\"\"Roll an 8-sided die <num> times\"\"\"\n",
    "    dice = Program(H(0), H(1), H(2))\n",
    "    roll_dice = dice.measure_all()\n",
    "    result = qvm.run(roll_dice, trials=num)\n",
    "    dice_values = [bin_to_dec(r) for r in result]\n",
    "\n",
    "    return dice_values"
   ]
  },
  {
   "cell_type": "markdown",
   "metadata": {},
   "source": [
    "Roll the dice once:"
   ]
  },
  {
   "cell_type": "code",
   "execution_count": null,
   "metadata": {},
   "outputs": [],
   "source": [
    "roll_d8(1)"
   ]
  },
  {
   "cell_type": "markdown",
   "metadata": {},
   "source": [
    "Example result: `[1]`"
   ]
  },
  {
   "cell_type": "markdown",
   "metadata": {},
   "source": [
    "Roll the dice 10 times:"
   ]
  },
  {
   "cell_type": "code",
   "execution_count": null,
   "metadata": {},
   "outputs": [],
   "source": [
    "roll_d8(10)"
   ]
  },
  {
   "cell_type": "markdown",
   "metadata": {},
   "source": [
    "Example result: `[1, 5, 1, 3, 7, 8, 4, 4, 3, 3]`"
   ]
  },
  {
   "cell_type": "markdown",
   "metadata": {},
   "source": [
    "Now, roll the dice 100 times and store the result in a variable."
   ]
  },
  {
   "cell_type": "code",
   "execution_count": null,
   "metadata": {},
   "outputs": [],
   "source": [
    "rolls = roll_d8(100)"
   ]
  },
  {
   "cell_type": "markdown",
   "metadata": {},
   "source": [
    "We can then plot the result in a histogram to see the probability distribution. Try playing around with the number of rolls (N) and see how the probability distribution changes."
   ]
  },
  {
   "cell_type": "code",
   "execution_count": null,
   "metadata": {},
   "outputs": [],
   "source": [
    "pl.hist(rolls, bins=[i + .5 for i in range(8)], rwidth=0.8)\n",
    "pl.ylabel(\"Number of rolls\")\n",
    "pl.xlabel(\"Dice roll result\")\n",
    "pl.title(\"8-sided dice rolls\")"
   ]
  },
  {
   "cell_type": "code",
   "execution_count": null,
   "metadata": {},
   "outputs": [],
   "source": []
  }
 ],
 "metadata": {
  "kernelspec": {
   "display_name": "Python 3",
   "language": "python",
   "name": "python3"
  },
  "language_info": {
   "codemirror_mode": {
    "name": "ipython",
    "version": 3
   },
   "file_extension": ".py",
   "mimetype": "text/x-python",
   "name": "python",
   "nbconvert_exporter": "python",
   "pygments_lexer": "ipython3",
   "version": "3.6.5"
  }
 },
 "nbformat": 4,
 "nbformat_minor": 2
}
