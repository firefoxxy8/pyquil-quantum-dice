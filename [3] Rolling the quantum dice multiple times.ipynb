{
 "cells": [
  {
   "cell_type": "markdown",
   "metadata": {},
   "source": [
    "# Rolling the quantum dice multiple times"
   ]
  },
  {
   "cell_type": "markdown",
   "metadata": {},
   "source": [
    "In the previous notebooks, we only rolled the dice _once_. Here, we will run the quantum program multiple times using the `trials` argument as to roll the dice multiple times!"
   ]
  },
  {
   "cell_type": "markdown",
   "metadata": {},
   "source": [
    "Import the dependencies."
   ]
  },
  {
   "cell_type": "code",
   "execution_count": null,
   "metadata": {},
   "outputs": [],
   "source": [
    "%pylab inline\n",
    "import pylab as pl\n",
    "from functools import reduce\n",
    "\n",
    "from pyquil.api import QPUConnection, QVMConnection, get_devices\n",
    "from pyquil.quil import Program\n",
    "from pyquil.gates import H, MEASURE"
   ]
  },
  {
   "cell_type": "markdown",
   "metadata": {},
   "source": [
    "Create the QVM connection."
   ]
  },
  {
   "cell_type": "code",
   "execution_count": null,
   "metadata": {},
   "outputs": [],
   "source": [
    "qvm = QVMConnection()"
   ]
  },
  {
   "cell_type": "markdown",
   "metadata": {},
   "source": [
    "## Roll an 8-sided quantum dice"
   ]
  },
  {
   "cell_type": "markdown",
   "metadata": {},
   "source": [
    "To easily run this multiple times, let's create some functions: one to convert binary values to decimal values, and one to roll a dice _num_ times."
   ]
  },
  {
   "cell_type": "code",
   "execution_count": null,
   "metadata": {},
   "outputs": [],
   "source": [
    "def bin_to_dec(values: list):\n",
    "    \"\"\"Convert binary to decimal value\"\"\"\n",
    "    return reduce(lambda x, y: 2*x + y, values, 0) + 1\n",
    "\n",
    "def roll_d8(num: int = 10):\n",
    "    \"\"\"Roll an 8-sided dice <num> times\"\"\"\n",
    "    dice = Program(H(0), H(1), H(2))\n",
    "    roll_dice = dice.measure_all()\n",
    "    result = qvm.run(roll_dice, trials=num)\n",
    "    dice_values = [bin_to_dec(r) for r in result]\n",
    "\n",
    "    return dice_values"
   ]
  },
  {
   "cell_type": "markdown",
   "metadata": {},
   "source": [
    "Roll the dice once:"
   ]
  },
  {
   "cell_type": "code",
   "execution_count": null,
   "metadata": {},
   "outputs": [],
   "source": [
    "roll_d8(1)"
   ]
  },
  {
   "cell_type": "markdown",
   "metadata": {},
   "source": [
    "Example result: `[1]`"
   ]
  },
  {
   "cell_type": "markdown",
   "metadata": {},
   "source": [
    "Roll the dice 10 times:"
   ]
  },
  {
   "cell_type": "code",
   "execution_count": null,
   "metadata": {},
   "outputs": [],
   "source": [
    "roll_d8(10)"
   ]
  },
  {
   "cell_type": "markdown",
   "metadata": {},
   "source": [
    "Example result: `[1, 5, 1, 3, 7, 8, 4, 4, 3, 3]`"
   ]
  },
  {
   "cell_type": "markdown",
   "metadata": {},
   "source": [
    "Now, roll the dice 100 times and store the result in a variable."
   ]
  },
  {
   "cell_type": "code",
   "execution_count": null,
   "metadata": {},
   "outputs": [],
   "source": [
    "rolls = roll_d8(100)"
   ]
  },
  {
   "cell_type": "markdown",
   "metadata": {},
   "source": [
    "We can then plot the result in a histogram to see the probability distribution. Try playing around with the number of rolls (N) and see how the probability distribution changes."
   ]
  },
  {
   "cell_type": "code",
   "execution_count": null,
   "metadata": {},
   "outputs": [],
   "source": [
    "def plot_hist(rolls, title=\"8-sided dice rolls\"):\n",
    "    \"\"\"Plot a histogram for 8-sided dice rolls\"\"\"\n",
    "    pl.hist(rolls, bins=[i + .5 for i in range(8)], rwidth=0.8)\n",
    "    pl.ylabel(\"Number of rolls\")\n",
    "    pl.xlabel(\"Dice roll result\")\n",
    "    pl.title(title)"
   ]
  },
  {
   "cell_type": "code",
   "execution_count": null,
   "metadata": {},
   "outputs": [],
   "source": [
    "plot_hist(rolls)"
   ]
  },
  {
   "cell_type": "markdown",
   "metadata": {},
   "source": [
    "## Entangling two 8-sided quantum dice"
   ]
  },
  {
   "cell_type": "markdown",
   "metadata": {},
   "source": [
    "Let's create two dice that are entangled! To do this, we first need to import the `CNOT` gate."
   ]
  },
  {
   "cell_type": "code",
   "execution_count": null,
   "metadata": {},
   "outputs": [],
   "source": [
    "from pyquil.gates import CNOT"
   ]
  },
  {
   "cell_type": "markdown",
   "metadata": {},
   "source": [
    "To entangle two qubits, we can run the following program:"
   ]
  },
  {
   "cell_type": "code",
   "execution_count": null,
   "metadata": {},
   "outputs": [],
   "source": [
    "entanglement = Program(H(0), CNOT(0, 1))\n",
    "print(entanglement)"
   ]
  },
  {
   "cell_type": "markdown",
   "metadata": {},
   "source": [
    "This program rotates one qubit into the superposition state, and then uses the _conditional not_ or `CNOT` gate to conditionally \"flip\" a second qubit, depending on the measurement outcome of the first. This means that if the first qubit returns |0>, the second qubit will stay in |0>, while if the first qubit returns |1>, the second qubit is flipped into |1>."
   ]
  },
  {
   "cell_type": "markdown",
   "metadata": {},
   "source": [
    "Let's run the program! You will see that because of quantum superposition, the two qubits will always give the same result."
   ]
  },
  {
   "cell_type": "code",
   "execution_count": null,
   "metadata": {},
   "outputs": [],
   "source": [
    "qvm.run(entanglement.measure_all(), trials=5)"
   ]
  },
  {
   "cell_type": "markdown",
   "metadata": {},
   "source": [
    "Now, to create a second dice and entangle it to the first (qubits 0, 1 and 2), all we need to do is use three more qubits (3, 4 and 5) to encode the second dice, and apply `CNOT` gates to these qubits. This means we need to entangle qubit 0 with qubit 3, qubit 1 with qubit 4 and qubit 2 with qubit 5."
   ]
  },
  {
   "cell_type": "code",
   "execution_count": null,
   "metadata": {},
   "outputs": [],
   "source": [
    "def roll_entangled_d8s(num: int = 10):\n",
    "    \"\"\"Roll two entangled 8-sided dice <num> times\"\"\"\n",
    "    # Create the first quantum dice state (qubits 0, 1 and 2).\n",
    "    dice = Program(H(0), H(1), H(2))\n",
    "    \n",
    "    # Entangle the dice to a second quantum dice (qubits 3, 4 and 5).\n",
    "    entangled_dice = dice + Program(CNOT(0, 3), CNOT(1, 4), CNOT(2, 5))\n",
    "\n",
    "    # Roll the dice!\n",
    "    roll_dice = entangled_dice.measure_all()\n",
    "    result = qvm.run(roll_dice, trials=num)\n",
    "    \n",
    "    # Get the values for the dice by converting binary to decimal values.\n",
    "    dice1_values, dice2_values = [], []\n",
    "    for ( q0, q1, q2, q3, q4, q5 ) in result:\n",
    "        # Dice 1 is encoded in qubits 0, 1 and 2:\n",
    "        dice1_values += [bin_to_dec([q0, q1, q2])]\n",
    "\n",
    "        # Dice 2 is encoded in qubits 3, 4 and 5:\n",
    "        dice2_values += [bin_to_dec([q3, q4, q5])]\n",
    "    \n",
    "    # Return the result.\n",
    "    return dice1_values, dice2_values"
   ]
  },
  {
   "cell_type": "markdown",
   "metadata": {},
   "source": [
    "Plot the values to compare probability distributions!"
   ]
  },
  {
   "cell_type": "code",
   "execution_count": null,
   "metadata": {},
   "outputs": [],
   "source": [
    "rolls1, rolls2 = roll_entangled_d8s(100)\n",
    "\n",
    "pl.figure(figsize=(14, 4))\n",
    "pl.subplot(121)\n",
    "plot_hist(rolls1, \"Dice A\")\n",
    "pl.subplot(122)\n",
    "plot_hist(rolls2, \"Dice B\")"
   ]
  },
  {
   "cell_type": "code",
   "execution_count": null,
   "metadata": {},
   "outputs": [],
   "source": []
  }
 ],
 "metadata": {
  "kernelspec": {
   "display_name": "Python 3",
   "language": "python",
   "name": "python3"
  },
  "language_info": {
   "codemirror_mode": {
    "name": "ipython",
    "version": 3
   },
   "file_extension": ".py",
   "mimetype": "text/x-python",
   "name": "python",
   "nbconvert_exporter": "python",
   "pygments_lexer": "ipython3",
   "version": "3.6.5"
  }
 },
 "nbformat": 4,
 "nbformat_minor": 2
}
