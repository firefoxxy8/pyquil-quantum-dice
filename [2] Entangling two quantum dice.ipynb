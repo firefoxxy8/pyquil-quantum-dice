{
 "cells": [
  {
   "cell_type": "markdown",
   "metadata": {},
   "source": [
    "# Entangling two quantum dice using the CNOT gate\n",
    "\n",
    "_Let's play around more with the quantum dice. What if we could entangle two dice together using quantum entanglement?_"
   ]
  },
  {
   "cell_type": "markdown",
   "metadata": {},
   "source": [
    "Import the dependencies."
   ]
  },
  {
   "cell_type": "code",
   "execution_count": null,
   "metadata": {},
   "outputs": [],
   "source": [
    "%pylab inline\n",
    "import pylab as pl\n",
    "from functools import reduce\n",
    "\n",
    "from pyquil.api import QVMConnection\n",
    "from pyquil.quil import Program\n",
    "from pyquil.gates import H"
   ]
  },
  {
   "cell_type": "markdown",
   "metadata": {},
   "source": [
    "Create the QVM connection."
   ]
  },
  {
   "cell_type": "code",
   "execution_count": null,
   "metadata": {},
   "outputs": [],
   "source": [
    "qvm = QVMConnection()"
   ]
  },
  {
   "cell_type": "markdown",
   "metadata": {},
   "source": [
    "## Quantum entanglement"
   ]
  },
  {
   "cell_type": "markdown",
   "metadata": {},
   "source": [
    "Let's create two dice that are entangled! To do this, we first need to import the `CNOT` gate."
   ]
  },
  {
   "cell_type": "code",
   "execution_count": null,
   "metadata": {},
   "outputs": [],
   "source": [
    "from pyquil.gates import CNOT"
   ]
  },
  {
   "cell_type": "markdown",
   "metadata": {},
   "source": [
    "To entangle two qubits, we can run the following program:"
   ]
  },
  {
   "cell_type": "code",
   "execution_count": null,
   "metadata": {},
   "outputs": [],
   "source": [
    "entanglement = Program(H(0), CNOT(0, 1))\n",
    "print(entanglement)"
   ]
  },
  {
   "cell_type": "markdown",
   "metadata": {},
   "source": [
    "This program rotates one qubit into the superposition state, and then uses the _conditional not_ or `CNOT` gate to conditionally \"flip\" a second qubit, depending on the measurement outcome of the first. This means that if the first qubit returns |0>, the second qubit will stay in |0>, while if the first qubit returns |1>, the second qubit is flipped into |1>."
   ]
  },
  {
   "cell_type": "markdown",
   "metadata": {},
   "source": [
    "Let's run the program! You will see that because of quantum superposition, the two qubits will always give the same result."
   ]
  },
  {
   "cell_type": "code",
   "execution_count": null,
   "metadata": {},
   "outputs": [],
   "source": [
    "qvm.run(entanglement.measure_all(), trials=5)"
   ]
  },
  {
   "cell_type": "markdown",
   "metadata": {},
   "source": [
    "## Entangling quantum dice"
   ]
  },
  {
   "cell_type": "markdown",
   "metadata": {},
   "source": [
    "We know how to make one 8-sided quantum dice. Now, to create a second dice and entangle it to the first (qubits 0, 1 and 2), all we need to do is use three more qubits (3, 4 and 5) to encode the second dice, and apply `CNOT` gates to these qubits. This means we need to entangle qubit 0 with qubit 3, qubit 1 with qubit 4 and qubit 2 with qubit 5."
   ]
  },
  {
   "cell_type": "markdown",
   "metadata": {},
   "source": [
    "Create the first quantum dice state (qubits 0, 1 and 2)."
   ]
  },
  {
   "cell_type": "code",
   "execution_count": null,
   "metadata": {},
   "outputs": [],
   "source": [
    "dice = Program(H(0), H(1), H(2))"
   ]
  },
  {
   "cell_type": "markdown",
   "metadata": {},
   "source": [
    "Entangle the dice to a second quantum dice (qubits 3, 4 and 5)."
   ]
  },
  {
   "cell_type": "code",
   "execution_count": null,
   "metadata": {},
   "outputs": [],
   "source": [
    "entangled_dice = dice + Program(CNOT(0, 3), CNOT(1, 4), CNOT(2, 5))"
   ]
  },
  {
   "cell_type": "markdown",
   "metadata": {},
   "source": [
    "Roll the dice!"
   ]
  },
  {
   "cell_type": "code",
   "execution_count": null,
   "metadata": {},
   "outputs": [],
   "source": [
    "roll_dice = entangled_dice.measure_all()\n",
    "result = qvm.run(roll_dice)"
   ]
  },
  {
   "cell_type": "markdown",
   "metadata": {},
   "source": [
    "Get the values for the dice. Remember on what qubits we encoded the dice."
   ]
  },
  {
   "cell_type": "code",
   "execution_count": null,
   "metadata": {},
   "outputs": [],
   "source": [
    "( q0, q1, q2, q3, q4, q5 ) = result[0] \n",
    "dice1 = [q0, q1, q2]\n",
    "dice2 = [q3, q4, q5]\n",
    "\n",
    "dice1_value = reduce(lambda x, y: 2*x + y, dice1, 0) + 1\n",
    "dice2_value = reduce(lambda x, y: 2*x + y, dice2, 0) + 1"
   ]
  },
  {
   "cell_type": "code",
   "execution_count": null,
   "metadata": {},
   "outputs": [],
   "source": [
    "dice1_value, dice2_value"
   ]
  },
  {
   "cell_type": "code",
   "execution_count": null,
   "metadata": {},
   "outputs": [],
   "source": []
  }
 ],
 "metadata": {
  "kernelspec": {
   "display_name": "Python 3",
   "language": "python",
   "name": "python3"
  },
  "language_info": {
   "codemirror_mode": {
    "name": "ipython",
    "version": 3
   },
   "file_extension": ".py",
   "mimetype": "text/x-python",
   "name": "python",
   "nbconvert_exporter": "python",
   "pygments_lexer": "ipython3",
   "version": "3.6.5"
  }
 },
 "nbformat": 4,
 "nbformat_minor": 2
}
