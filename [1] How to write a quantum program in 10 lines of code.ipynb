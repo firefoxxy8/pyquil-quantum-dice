{
 "cells": [
  {
   "cell_type": "markdown",
   "metadata": {},
   "source": [
    "# How to write a quantum program in 10 lines of code (for beginners)\n",
    "_Build an 8-sided dice that runs on a quantum computer_\n",
    "\n",
    "This example is based on Dave Yen's blog post: [\"How to write a quantum program in 10 lines of code (for beginners)\"](https://medium.com/rigetti/how-to-write-a-quantum-program-in-10-lines-of-code-for-beginners-540224ac6b45)."
   ]
  },
  {
   "cell_type": "markdown",
   "metadata": {},
   "source": [
    "## Get API key"
   ]
  },
  {
   "cell_type": "markdown",
   "metadata": {},
   "source": [
    "Go to http://forest.rigetti.com/ and request a Forest API key.\n",
    "You will receive an e-mail containing your API key and user ID.\n",
    "\n",
    "Copy the key and enter them in the field below. After the key and user ID have been filled out, evaluate the cell with SHIFT + ENTER. This will create the config file which will be used to connect to the Rigetti Forest API."
   ]
  },
  {
   "cell_type": "code",
   "execution_count": null,
   "metadata": {},
   "outputs": [],
   "source": [
    "%%writefile .pyquil_config\n",
    "[Rigetti Forest]\n",
    "key: \n",
    "user_id: "
   ]
  },
  {
   "cell_type": "markdown",
   "metadata": {},
   "source": [
    "Now first import the dependencies. Evaluate these cells with SHIFT+ENTER."
   ]
  },
  {
   "cell_type": "code",
   "execution_count": null,
   "metadata": {},
   "outputs": [],
   "source": [
    "from pyquil.quil import Program\n",
    "from pyquil.api import QVMConnection\n",
    "from pyquil.gates import H\n",
    "\n",
    "from functools import reduce"
   ]
  },
  {
   "cell_type": "markdown",
   "metadata": {},
   "source": [
    "Create a connection to the Quantum Virtual Machine (QVM)"
   ]
  },
  {
   "cell_type": "code",
   "execution_count": null,
   "metadata": {},
   "outputs": [],
   "source": [
    "qvm = QVMConnection()"
   ]
  },
  {
   "cell_type": "markdown",
   "metadata": {},
   "source": [
    "Apply the Hadamard gate to three qubits to generate 8 possible randomized results"
   ]
  },
  {
   "cell_type": "code",
   "execution_count": null,
   "metadata": {},
   "outputs": [],
   "source": [
    "dice = Program(H(0), H(1), H(2))"
   ]
  },
  {
   "cell_type": "markdown",
   "metadata": {},
   "source": [
    "There are 8 possible results: `[[0,0,0], [0,0,1], [0,1,1], [1,1,1], [1,1,0], [1,0,0], [0,1,0]] [0,0,1]]`"
   ]
  },
  {
   "cell_type": "markdown",
   "metadata": {},
   "source": [
    "Measure the qubits to get a result, i.e. roll the dice"
   ]
  },
  {
   "cell_type": "code",
   "execution_count": null,
   "metadata": {},
   "outputs": [],
   "source": [
    "roll_dice = dice.measure_all()\n",
    "result = qvm.run(roll_dice)\n",
    "result"
   ]
  },
  {
   "cell_type": "markdown",
   "metadata": {},
   "source": [
    "Example result: `[[0,1,0]]`. The QVM returns a list of lists, where the inner list contains the result for one dice roll."
   ]
  },
  {
   "cell_type": "markdown",
   "metadata": {},
   "source": [
    "Format and print the result as a dice value between 1 and 8"
   ]
  },
  {
   "cell_type": "code",
   "execution_count": null,
   "metadata": {},
   "outputs": [],
   "source": [
    "dice_value = reduce(lambda x, y: 2*x + y, result[0], 0) + 1\n",
    "\n",
    "print(\"Your quantum dice roll returned:\", dice_value)"
   ]
  },
  {
   "cell_type": "code",
   "execution_count": null,
   "metadata": {},
   "outputs": [],
   "source": []
  }
 ],
 "metadata": {
  "kernelspec": {
   "display_name": "Python 3",
   "language": "python",
   "name": "python3"
  },
  "language_info": {
   "codemirror_mode": {
    "name": "ipython",
    "version": 3
   },
   "file_extension": ".py",
   "mimetype": "text/x-python",
   "name": "python",
   "nbconvert_exporter": "python",
   "pygments_lexer": "ipython3",
   "version": "3.6.5"
  }
 },
 "nbformat": 4,
 "nbformat_minor": 2
}
